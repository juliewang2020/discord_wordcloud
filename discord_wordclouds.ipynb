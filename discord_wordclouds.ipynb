{
 "cells": [
  {
   "cell_type": "markdown",
   "id": "35e780e8",
   "metadata": {},
   "source": [
    "### Acquire & Clean Data"
   ]
  },
  {
   "cell_type": "code",
   "execution_count": 154,
   "id": "90cc3b35",
   "metadata": {},
   "outputs": [],
   "source": [
    "import matplotlib.pyplot as plt\n",
    "from wordcloud import WordCloud, STOPWORDS\n",
    "import pandas as pd\n",
    "import json\n",
    "import requests\n",
    "import os\n",
    "import warnings\n",
    "import time\n",
    "from dotenv import load_dotenv\n",
    "load_dotenv()\n",
    "\n",
    "access_token = os.environ.get(\"access_token\")\n",
    "\n",
    "workshop_channel_id = os.environ.get(\"workshop_channel_id\")\n",
    "vc_channel_id = os.environ.get(\"vc_channel_id\")\n",
    "weebchat_channel_id = os.environ.get(\"weebchat_channel_id\")\n",
    "lol_channel_id = os.environ.get(\"lol_channel_id\")"
   ]
  },
  {
   "cell_type": "code",
   "execution_count": null,
   "id": "4d747836",
   "metadata": {},
   "outputs": [],
   "source": [
    "def jsonToDataframe(messages_json, channel_name):\n",
    "    timestamps = []\n",
    "    username = []\n",
    "    content = []\n",
    "    message_id = []\n",
    "    for message in messages_json:\n",
    "        timestamps.append(message['timestamp'])\n",
    "        username.append(message['author']['username'])\n",
    "        content.append(message['content'])\n",
    "        message_id.append(message['id'])\n",
    "\n",
    "    list_of_tuples = list(zip(username, timestamps, content, message_id)) \n",
    "\n",
    "    df = pd.DataFrame(list_of_tuples,\n",
    "                      columns = ['username', 'timestamps', 'content', 'message_id']) \n",
    "    df['channel'] = channel_name\n",
    "    \n",
    "    return df\n",
    "\n",
    "def getChannelMessages(access_token, channel_id):\n",
    "    api_url = \"https://discord.com/api/channels/\" + channel_id + \"/messages?limit=100\"\n",
    "    api_call_headers = {'Authorization': 'Bot ' + access_token}\n",
    "    api_call_response = requests.get(api_url, headers=api_call_headers, verify=False)\n",
    "\n",
    "    messages_raw = api_call_response.text\n",
    "    messages_json_new = json.loads(messages_raw)\n",
    "\n",
    "    messages_json = messages_json_new.copy() # create deep copy of list \n",
    "\n",
    "    while len(messages_json_new) > 0: \n",
    "        messages_json.extend(messages_json_new)\n",
    "        starting_id = messages_json[-1]['id']\n",
    "        \n",
    "        print(\"Working on channel_id: \" + channel_id)\n",
    "        time.sleep(.25)\n",
    "        \n",
    "        api_url = \"https://discord.com/api/channels/\" + channel_id + \"/messages?limit=100&before=\" + starting_id\n",
    "        api_call_response = requests.get(api_url, headers=api_call_headers, verify=False)\n",
    "        \n",
    "        messages_raw = api_call_response.text\n",
    "        messages_json_new = json.loads(messages_raw)\n",
    "        \n",
    "    return messages_json"
   ]
  },
  {
   "cell_type": "code",
   "execution_count": 185,
   "id": "0c2522fb",
   "metadata": {
    "scrolled": true
   },
   "outputs": [
    {
     "name": "stdout",
     "output_type": "stream",
     "text": [
      "Working on channel_id: 392898909267165188\n",
      "Working on channel_id: 392898909267165188\n",
      "Working on channel_id: 392898909267165188\n",
      "Working on channel_id: 392898909267165188\n",
      "Working on channel_id: 392898909267165188\n",
      "Working on channel_id: 392898909267165188\n",
      "Working on channel_id: 392898909267165188\n",
      "Working on channel_id: 392898909267165188\n",
      "Working on channel_id: 392898909267165188\n",
      "Working on channel_id: 392898909267165188\n",
      "Working on channel_id: 392898909267165188\n",
      "Working on channel_id: 392898909267165188\n",
      "Working on channel_id: 392898909267165188\n",
      "Working on channel_id: 392898909267165188\n",
      "Working on channel_id: 392898909267165188\n",
      "Working on channel_id: 392898909267165188\n",
      "Working on channel_id: 392898909267165188\n",
      "Working on channel_id: 392898909267165188\n",
      "Working on channel_id: 392898909267165188\n",
      "Working on channel_id: 392898909267165188\n",
      "Working on channel_id: 392898909267165188\n",
      "Working on channel_id: 392898909267165188\n",
      "Working on channel_id: 392898909267165188\n",
      "Working on channel_id: 392898909267165188\n",
      "Working on channel_id: 392898909267165188\n",
      "Working on channel_id: 392898909267165188\n",
      "Working on channel_id: 392898909267165188\n",
      "Working on channel_id: 834213263985082439\n",
      "Working on channel_id: 796625478811254784\n",
      "Working on channel_id: 796625478811254784\n",
      "Working on channel_id: 796625478811254784\n",
      "Working on channel_id: 796625478811254784\n",
      "Working on channel_id: 796625478811254784\n",
      "Working on channel_id: 796625478811254784\n",
      "Working on channel_id: 796625478811254784\n",
      "Working on channel_id: 796625478811254784\n",
      "Working on channel_id: 780332368158130207\n",
      "Working on channel_id: 780332368158130207\n",
      "Working on channel_id: 780332368158130207\n",
      "Working on channel_id: 780332368158130207\n",
      "Working on channel_id: 780332368158130207\n",
      "Working on channel_id: 780332368158130207\n",
      "Working on channel_id: 780332368158130207\n",
      "Working on channel_id: 780332368158130207\n",
      "Working on channel_id: 780332368158130207\n",
      "Working on channel_id: 780332368158130207\n",
      "Working on channel_id: 780332368158130207\n",
      "Working on channel_id: 780332368158130207\n",
      "Working on channel_id: 780332368158130207\n",
      "Working on channel_id: 780332368158130207\n",
      "Working on channel_id: 780332368158130207\n",
      "Working on channel_id: 780332368158130207\n",
      "Working on channel_id: 780332368158130207\n",
      "Working on channel_id: 780332368158130207\n"
     ]
    }
   ],
   "source": [
    "# Messages Pull and JSON Conversion\n",
    "warnings.filterwarnings(\"ignore\")\n",
    "\n",
    "#workshop\n",
    "workshop_json = getChannelMessages(access_token, workshop_channel_id)\n",
    "workshop_df = jsonToDataframe(workshop_json, 'workshop')\n",
    "\n",
    "#vc-discussion\n",
    "vc_json = getChannelMessages(access_token, vc_channel_id)\n",
    "vc_df = jsonToDataframe(vc_json, 'vc-discussion')\n",
    "\n",
    "#workshop\n",
    "weebchat_json = getChannelMessages(access_token, weebchat_channel_id)\n",
    "weebchat_df = jsonToDataframe(weebchat_json, 'weebchat')\n",
    "\n",
    "#workshop\n",
    "lol_json = getChannelMessages(access_token, lol_channel_id)\n",
    "lol_df = jsonToDataframe(lol_json, 'lol')"
   ]
  },
  {
   "cell_type": "code",
   "execution_count": 161,
   "id": "57ac91ef",
   "metadata": {},
   "outputs": [],
   "source": [
    "# Cleaning Process\n",
    "# Remove \"\"(GIFS), remove the tags between <@!____>, filter out bots like Pepper-potts & groovy\n",
    "# Fix timestamps \n",
    "\n",
    "workshop_df1 = workshop_df[workshop_df[~df['username'].isin(countries_to_keep)]]\n",
    "\n",
    "workshop_df2 = workshop_df1[workshop_df1['content'] != \"\"]"
   ]
  },
  {
   "cell_type": "code",
   "execution_count": 188,
   "id": "22cd2c46",
   "metadata": {
    "scrolled": true
   },
   "outputs": [
    {
     "data": {
      "text/plain": [
       "array(['626', 'Gremlin', 'Rohnji', 'Prime', 'IRON', 'suchadad', 'Pikachi',\n",
       "       'aaliyah', 'Floseidon', 'nuna_d', 'Yang', 'Tenecchi', 'grogu',\n",
       "       'Siddartha', 'Naughty Roti', 'fancypants', 'Chucher', 'Raederle',\n",
       "       'kumomi18', 'DrewTheDon', 'CrabRaveDad', 'ellie', 'DownToPho',\n",
       "       'Rythm', 'Bennay', 'jacksmores', 'Kaivitz', 'rina', 'archerja',\n",
       "       'gambling bot', 'MEE6', 'kinglenyx', 'chimkin nugget', 'mattyv43',\n",
       "       'Simple Poll', 'NatRae', 'Pnoyy-', '.ryan', 'peepeepoopoo', 'Den~',\n",
       "       'ericle0n', 'neely', 'lael54', 'Zo', 'Maalikin', 'NotoriousCAT',\n",
       "       'Alfredo', 'TurkeyManLaFlare', 'ricki', 'cass', 'alpha',\n",
       "       'MethodAct', 'thegreatgabola', 'star.duhst', 'LoreVerne', 'danny',\n",
       "       'Zandophen', 'Sidekick'], dtype=object)"
      ]
     },
     "execution_count": 188,
     "metadata": {},
     "output_type": "execute_result"
    }
   ],
   "source": [
    "pd.set_option('display.max_row', 1000)\n",
    "workshop_df2['username'].unique()\n"
   ]
  },
  {
   "cell_type": "code",
   "execution_count": null,
   "id": "0f0bb756",
   "metadata": {},
   "outputs": [],
   "source": [
    "workshop_df3 = workshop_df2[~workshop_df2['username'].isin(countries_to_keep)]]\n",
    "workshop_df3['username'].unique()"
   ]
  }
 ],
 "metadata": {
  "kernelspec": {
   "display_name": "Python 3",
   "language": "python",
   "name": "python3"
  },
  "language_info": {
   "codemirror_mode": {
    "name": "ipython",
    "version": 3
   },
   "file_extension": ".py",
   "mimetype": "text/x-python",
   "name": "python",
   "nbconvert_exporter": "python",
   "pygments_lexer": "ipython3",
   "version": "3.9.4"
  }
 },
 "nbformat": 4,
 "nbformat_minor": 5
}
