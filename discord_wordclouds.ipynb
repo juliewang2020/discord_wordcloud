{
 "cells": [
  {
   "cell_type": "markdown",
   "id": "35e780e8",
   "metadata": {},
   "source": [
    "### Acquire & Clean Data"
   ]
  },
  {
   "cell_type": "code",
   "execution_count": 8,
   "id": "90cc3b35",
   "metadata": {},
   "outputs": [
    {
     "name": "stdout",
     "output_type": "stream",
     "text": [
      "The dotenv extension is already loaded. To reload it, use:\n",
      "  %reload_ext dotenv\n",
      "cannot find .env file\n"
     ]
    }
   ],
   "source": [
    "import matplotlib.pyplot as plt\n",
    "from wordcloud import WordCloud, STOPWORDS\n",
    "import pandas as pd\n",
    "import json\n",
    "import requests\n",
    "from dotenv import load_dotenv\n",
    "\n",
    "%load_ext dotenv\n",
    "%dotenv"
   ]
  },
  {
   "cell_type": "code",
   "execution_count": null,
   "id": "4d747836",
   "metadata": {},
   "outputs": [],
   "source": [
    "def getChannelMessages(access_token, channel_id):\n",
    "    api_url = \"https://discord.com/api/channels/\" + channel_id + \"/messages\"\n",
    "    api_call_headers = {'Authorization': 'Bot ' + access_token}\n",
    "    api_call_response = requests.get(api_url, headers=api_call_headers, verify=False)\n",
    "    \n",
    "    messages_raw = api_call_response.text\n",
    "    messages_json = json.loads(messages_raw)\n",
    "    return messages_json\n",
    "\n",
    "def jsonToDataframe(messages_json, channel_name):\n",
    "    timestamps = []\n",
    "    username = []\n",
    "    content = []\n",
    "    for message in messages_json:\n",
    "        timestamps.append(message['timestamp'])\n",
    "        username.append(message['author']['username'])\n",
    "        content.append(message['content'])\n",
    "\n",
    "    list_of_tuples = list(zip(username, timestamps, content)) \n",
    "\n",
    "    df = pd.DataFrame(list_of_tuples,\n",
    "                      columns = ['username', 'timestamps', 'content']) \n",
    "    df['channel'] = channel_name\n",
    "    return df"
   ]
  },
  {
   "cell_type": "code",
   "execution_count": null,
   "id": "0c2522fb",
   "metadata": {},
   "outputs": [],
   "source": [
    "# Convert all text to json\n",
    "vcj\n",
    "\n",
    "\n",
    "vc_df = jsonToDataframe(vc, 'vc-discussion')\n",
    "vc_df.columns\n",
    "vc_df.head()"
   ]
  },
  {
   "cell_type": "code",
   "execution_count": null,
   "id": "57ac91ef",
   "metadata": {},
   "outputs": [],
   "source": [
    "# Cleaning Process\n",
    "# Remove \"\"(GIFS), remove the tags between <@!____>\n",
    "# Fix timestamps "
   ]
  }
 ],
 "metadata": {
  "kernelspec": {
   "display_name": "Python 3",
   "language": "python",
   "name": "python3"
  },
  "language_info": {
   "codemirror_mode": {
    "name": "ipython",
    "version": 3
   },
   "file_extension": ".py",
   "mimetype": "text/x-python",
   "name": "python",
   "nbconvert_exporter": "python",
   "pygments_lexer": "ipython3",
   "version": "3.9.4"
  }
 },
 "nbformat": 4,
 "nbformat_minor": 5
}
